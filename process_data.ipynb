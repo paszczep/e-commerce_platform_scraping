{
 "cells": [
  {
   "cell_type": "code",
   "execution_count": 14,
   "id": "f2bccda0",
   "metadata": {},
   "outputs": [],
   "source": [
    "import pandas as pd"
   ]
  },
  {
   "cell_type": "code",
   "execution_count": 18,
   "id": "e6f7ebe8",
   "metadata": {},
   "outputs": [],
   "source": [
    "data = pd.read_csv('/home/pawel/PycharmProjects/allegro_sellers/non-processed-output.csv', header=None).dropna()"
   ]
  },
  {
   "cell_type": "code",
   "execution_count": 20,
   "id": "a41d1a89",
   "metadata": {},
   "outputs": [],
   "source": [
    "data = data.value_counts().rename_axis('unique_values').reset_index(name='counts')"
   ]
  },
  {
   "cell_type": "code",
   "execution_count": 22,
   "id": "35fbae07",
   "metadata": {},
   "outputs": [],
   "source": [
    "data.to_csv('processed_output', sep=';', index=None)"
   ]
  },
  {
   "cell_type": "code",
   "execution_count": null,
   "id": "6d674233",
   "metadata": {},
   "outputs": [],
   "source": []
  }
 ],
 "metadata": {
  "kernelspec": {
   "display_name": "Python 3 (ipykernel)",
   "language": "python",
   "name": "python3"
  },
  "language_info": {
   "codemirror_mode": {
    "name": "ipython",
    "version": 3
   },
   "file_extension": ".py",
   "mimetype": "text/x-python",
   "name": "python",
   "nbconvert_exporter": "python",
   "pygments_lexer": "ipython3",
   "version": "3.9.12"
  }
 },
 "nbformat": 4,
 "nbformat_minor": 5
}

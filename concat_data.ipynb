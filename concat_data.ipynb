{
 "cells": [
  {
   "cell_type": "code",
   "execution_count": 10,
   "id": "2cc3d34c",
   "metadata": {},
   "outputs": [],
   "source": [
    "from pathlib import Path\n",
    "import pandas as pd"
   ]
  },
  {
   "cell_type": "code",
   "execution_count": 8,
   "id": "6b0098f9",
   "metadata": {},
   "outputs": [
    {
     "data": {
      "text/plain": [
       "PosixPath('/home/pawel/PycharmProjects/allegro_sellers/data')"
      ]
     },
     "execution_count": 8,
     "metadata": {},
     "output_type": "execute_result"
    }
   ],
   "source": [
    "data_directory = Path.cwd() / 'data'\n",
    "data_directory"
   ]
  },
  {
   "cell_type": "code",
   "execution_count": 9,
   "id": "f7d886ab",
   "metadata": {},
   "outputs": [
    {
     "data": {
      "text/plain": [
       "[PosixPath('/home/pawel/PycharmProjects/allegro_sellers/data/kawa_more_data_output.csv'),\n",
       " PosixPath('/home/pawel/PycharmProjects/allegro_sellers/data/ekspresy_do_kawy_more_data_output.csv'),\n",
       " PosixPath('/home/pawel/PycharmProjects/allegro_sellers/data/frenchpress_more_data_output.csv'),\n",
       " PosixPath('/home/pawel/PycharmProjects/allegro_sellers/data/kawakawa_more_data_output.csv'),\n",
       " PosixPath('/home/pawel/PycharmProjects/allegro_sellers/data/kawiarka_more_data_output.csv')]"
      ]
     },
     "execution_count": 9,
     "metadata": {},
     "output_type": "execute_result"
    }
   ],
   "source": [
    "files = [file for file in data_directory.iterdir()]\n",
    "files"
   ]
  },
  {
   "cell_type": "code",
   "execution_count": null,
   "id": "f32641b0",
   "metadata": {},
   "outputs": [],
   "source": []
  }
 ],
 "metadata": {
  "kernelspec": {
   "display_name": "Python 3 (ipykernel)",
   "language": "python",
   "name": "python3"
  },
  "language_info": {
   "codemirror_mode": {
    "name": "ipython",
    "version": 3
   },
   "file_extension": ".py",
   "mimetype": "text/x-python",
   "name": "python",
   "nbconvert_exporter": "python",
   "pygments_lexer": "ipython3",
   "version": "3.9.12"
  }
 },
 "nbformat": 4,
 "nbformat_minor": 5
}
